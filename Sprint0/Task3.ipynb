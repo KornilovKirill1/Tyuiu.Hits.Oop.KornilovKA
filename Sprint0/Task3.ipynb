{
 "cells": [
  {
   "cell_type": "markdown",
   "metadata": {},
   "source": [
    "<h1 style=\"color:DodgerBlue\">Индивидальный проект</h1>"
   ]
  },
  {
   "cell_type": "markdown",
   "metadata": {},
   "source": [
    "<h2 style=\"color:DodgerBlue\">Название проекта:</h2>\n",
    "\n",
    "----\n",
    "\n",
    "### Вариант задания №9\n"
   ]
  },
  {
   "cell_type": "markdown",
   "metadata": {},
   "source": [
    "<h2 style=\"color:DodgerBlue\">Описание проекта:</h2>\n",
    "\n",
    "----\n",
    "\n",
    "Создать базовый класс Order в C#, который будет представлять информацию о заказах товаров или услуг. На основе этого класса разработать 2-3 производных класса, демонстрирующих принципы наследования и полиморфизма. В каждом из классов должны быть реализованы новые атрибуты и методы, а также переопределены некоторые методы базового класса для демонстрации полиморфизма.\n",
    "\n",
    "<b>Требования к базовому классу Order:</b>\n",
    "<ul>\n",
    "  <li>Атрибуты: ID заказа (OrderId), Дата создания (CreationDate), Сумма заказа\n",
    "(TotalAmount).</li>\n",
    "  <li>Методы:</li>\n",
    "  <ul>\n",
    "    <li>CalculateTotal(): метод для расчета общей суммы заказа.</li>\n",
    "    <li>AddItem(Item item): метод для добавления элемента в заказ.</li>\n",
    "    <li>RemoveItem(Item item): метод для удаления элемента из заказа.</li>\n",
    "  </ul>\n",
    "</ul>\n",
    "<b>Требования к производным классам:</b>\n",
    "<ol>\n",
    "  <li>ОнлайнЗаказ (OnlineOrder): Должен содержать дополнительные атрибуты, такие как Email клиента (CustomerEmail). Метод AddItem() должен быть переопределен для добавления информации о способе доставки при добавлении элемента.</li>\n",
    "  <li>ФизическийЗаказ (PhysicalOrder): Должен содержать дополнительные атрибуты, такие как Адрес доставки (DeliveryAddress). Метод RemoveItem() должен быть переопределен для добавления информации о возврате товара при удалении элемента.</li>\n",
    "  <li>СпециализированныйЗаказ (SpecializedOrder) (если требуется третий класс): Должен содержать дополнительные атрибуты, такие как Специальные условия (SpecialConditions). Метод CalculateTotal() должен быть переопределен для учета специальных условий при расчете общей суммы заказа.</li>\n",
    "</ol>"
   ]
  },
  {
   "cell_type": "markdown",
   "metadata": {},
   "source": [
    "<h2 style=\"color:DodgerBlue\">Реализация:</h2>\n",
    "\n",
    "----"
   ]
  },
  {
   "cell_type": "code",
   "execution_count": 2,
   "metadata": {
    "dotnet_interactive": {
     "language": "csharp"
    },
    "polyglot_notebook": {
     "kernelName": "csharp"
    }
   },
   "outputs": [
    {
     "name": "stdout",
     "output_type": "stream",
     "text": [
      "Товар 'Ноутбук' добавлен в онлайн-заказ. Способ доставки: Стандартная доставка\n",
      "Товар 'Телефон' добавлен в онлайн-заказ. Способ доставки: Стандартная доставка\n",
      "Общая сумма онлайн-заказа: 70000\n",
      "Товар 'Ноутбук' добавлен в физический заказ. Адрес доставки: ул. Харьковская 55, кв. 43, г. Тюмень\n",
      "Товар 'Ноутбук' удален из физического заказа. Начата обработка возврата.\n",
      "Общая сумма физического заказа: 0\n",
      "Товар 'Ноутбук' добавлен в специальный заказ. Особые условия: Дискаунт\n",
      "Товар 'Телефон' добавлен в специальный заказ. Особые условия: Дискаунт\n",
      "Общая сумма специального заказа: 63000\n"
     ]
    }
   ],
   "source": [
    "\n",
    "public abstract class Order {\n",
    "  public int OrderId;\n",
    "  public DateTime CreationDate;\n",
    "  public double TotalAmount;\n",
    "  protected List<Item> Items = new List<Item>();\n",
    "\n",
    "  public virtual void AddItem(Item item) {\n",
    "    Items.Add(item);\n",
    "    TotalAmount += item.Price;\n",
    "  }\n",
    "  public virtual void RemoveItem(Item item) {\n",
    "    if (Items.Remove(item)) {\n",
    "      TotalAmount -= item.Price;\n",
    "    }\n",
    "  }\n",
    "  public virtual double CalculateTotal() {\n",
    "    return TotalAmount;\n",
    "  }\n",
    "}\n",
    "\n",
    "public class Item\n",
    "{\n",
    "  public int Id;\n",
    "  public string Name;\n",
    "  public double Price;\n",
    "  public string DeliveryMethod;\n",
    "  public string ReturnInfo;\n",
    "}\n",
    "\n",
    "internal class OnlineOrder : Order\n",
    "{\n",
    "  public string CustomerEmail;\n",
    "\n",
    "  public override void AddItem(Item item)\n",
    "  {\n",
    "    base.AddItem(item);\n",
    "    item.DeliveryMethod = \"Стандартная доставка\";    \n",
    "    Console.WriteLine($\"Товар '{item.Name}' добавлен в онлайн-заказ. Способ доставки: {item.DeliveryMethod}\");\n",
    "  }\n",
    "\n",
    "  public override void RemoveItem(Item item)\n",
    "  {       \n",
    "    base.RemoveItem(item);\n",
    "    Console.WriteLine($\"Товар '{item.Name}' удален из онлайн заказа.\");\n",
    "  }\n",
    "}\n",
    "\n",
    "internal class PhysicalOrder : Order\n",
    "{\n",
    "  public string DeliveryAddress;\n",
    "\n",
    "  public override void AddItem(Item item)\n",
    "  {\n",
    "    base.AddItem(item);\n",
    "    Console.WriteLine($\"Товар '{item.Name}' добавлен в физический заказ. Адрес доставки: {DeliveryAddress}\");\n",
    "  }\n",
    "\n",
    "  public override void RemoveItem(Item item)\n",
    "  {\n",
    "    base.RemoveItem(item);\n",
    "    item.ReturnInfo = \"Начата обработка возврата.\";\n",
    "    Console.WriteLine($\"Товар '{item.Name}' удален из физического заказа. {item.ReturnInfo}\");\n",
    "  }\n",
    "}\n",
    "\n",
    "internal class SpecializedOrder : Order\n",
    "{\n",
    "  public string SpecialConditions;\n",
    "\n",
    "  public override void AddItem(Item item)\n",
    "  {\n",
    "    base.AddItem(item);\n",
    "    Console.WriteLine($\"Товар '{item.Name}' добавлен в специальный заказ. Особые условия: {SpecialConditions}\");\n",
    "  }\n",
    "\n",
    "  public override void RemoveItem(Item item)\n",
    "  {\n",
    "    base.RemoveItem(item);\n",
    "    Console.WriteLine($\"Товар '{item.Name}' удален из специального заказа.\");\n",
    "  }\n",
    "\n",
    "  public override double CalculateTotal()\n",
    "  {\n",
    "    double specialDiscount = SpecialConditions == \"Дискаунт\" ? 0.1 * TotalAmount : 0;\n",
    "    return TotalAmount - specialDiscount;\n",
    "  }\n",
    "}\n",
    "\n",
    "OnlineOrder onlineOrder = new OnlineOrder\n",
    "{\n",
    "  OrderId = 1,\n",
    "  CreationDate = DateTime.Now,\n",
    "  CustomerEmail = \"kilian_bs@mail.ru\"\n",
    "};\n",
    "\n",
    "PhysicalOrder physicalOrder = new PhysicalOrder\n",
    "{\n",
    "  OrderId = 2,\n",
    "  CreationDate = DateTime.Now,\n",
    "  DeliveryAddress = \"ул. Харьковская 55, кв. 43, г. Тюмень\"\n",
    "};\n",
    "\n",
    "SpecializedOrder specializedOrder = new SpecializedOrder\n",
    "{\n",
    "  OrderId = 3,\n",
    "  CreationDate = DateTime.Now,\n",
    "  SpecialConditions = \"Дискаунт\"\n",
    "};\n",
    "\n",
    "var item1 = new Item { Id = 1, Name = \"Ноутбук\", Price = 50000 };\n",
    "var item2 = new Item { Id = 2, Name = \"Телефон\", Price = 20000 };\n",
    "\n",
    "onlineOrder.AddItem(item1);\n",
    "onlineOrder.AddItem(item2);\n",
    "Console.WriteLine($\"Общая сумма онлайн-заказа: {onlineOrder.CalculateTotal()}\");\n",
    "\n",
    "physicalOrder.AddItem(item1);\n",
    "physicalOrder.RemoveItem(item1);\n",
    "Console.WriteLine($\"Общая сумма физического заказа: {physicalOrder.CalculateTotal()}\");\n",
    "\n",
    "specializedOrder.AddItem(item1);\n",
    "specializedOrder.AddItem(item2);\n",
    "Console.WriteLine($\"Общая сумма специального заказа: {specializedOrder.CalculateTotal()}\");\n"
   ]
  }
 ],
 "metadata": {
  "kernelspec": {
   "display_name": ".NET (C#)",
   "language": "C#",
   "name": ".net-csharp"
  },
  "polyglot_notebook": {
   "kernelInfo": {
    "defaultKernelName": "csharp",
    "items": [
     {
      "aliases": [],
      "languageName": "csharp",
      "name": "csharp"
     }
    ]
   }
  }
 },
 "nbformat": 4,
 "nbformat_minor": 2
}
